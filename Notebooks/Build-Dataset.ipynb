{
 "cells": [
  {
   "cell_type": "markdown",
   "metadata": {},
   "source": [
    "# Building Dataset \n",
    "We build a Pytorch Dataset Object to store and structure the graph data: "
   ]
  },
  {
   "cell_type": "code",
   "execution_count": 2,
   "metadata": {},
   "outputs": [],
   "source": [
    "# import libraries : \n",
    "\n",
    "import os \n",
    "import random \n",
    "import numpy as np \n",
    "import pandas as pd \n",
    "import matplotlib.pyplot as plt \n",
    "import seaborn as sns \n",
    "\n",
    "# set random seed : \n",
    "np.random.seed( 41 )\n",
    "\n",
    "import torch\n",
    "import torch.nn as nn \n",
    "import torch.utils.data as data \n",
    "import torch.functional as F \n",
    "from torch import Tensor \n",
    "\n",
    "import torch_geometric\n",
    "from torch_geometric.data import Data\n",
    "# from typing import Optional, Tuple"
   ]
  },
  {
   "cell_type": "code",
   "execution_count": null,
   "metadata": {},
   "outputs": [],
   "source": [
    "class EventData(data.Dataset): \n",
    "    \n",
    "    # initialaize the event dataset \n",
    "    def __init__(self,path:str)->None:\n",
    "        '''\n",
    "        Inputs : \n",
    "            path: path to the folder where the csv file was contained.  \n",
    "        '''\n",
    "        super(EventData,self).__init__()\n",
    "        self.events = [code[:-9] for code in os.listdir(path) if code.endswith('-hits.csv')]\n",
    "        self.num_events = len(self.events)\n",
    "        self.path = path \n",
    "        \n",
    "    # function returns graph type represntation of the event dataset \n",
    "    def GraphData(self,idx:int) -> Data :\n",
    "        eventid = self.events[idx] \n",
    "        \n",
    "        hits = pd.read_csv(self.path+eventid+'-hits.csv')\n",
    "        # total number of hits : these form the NODES of our graph. \n",
    "        nhits = hits.shape[0] \n",
    "        # x , y , z of the hits ! \n",
    "        hits_spatial = hits.to_numpy()[: , 1:4 ]\n",
    "        # id related to the hits \n",
    "        hits_id = hits.to_numpy(dtype = int)[: ,[0,*list(range(4,7))]]\n",
    "\n",
    "        particle = pd.read_csv(self.path+eventid+'-particles.csv')\n",
    "        \n",
    "        truth = pd.read_csv(self.path+eventid+'-truth.csv')\n",
    "        \n",
    "        "
   ]
  }
 ],
 "metadata": {
  "kernelspec": {
   "display_name": "VirtualEnv",
   "language": "python",
   "name": "python3"
  },
  "language_info": {
   "codemirror_mode": {
    "name": "ipython",
    "version": 3
   },
   "file_extension": ".py",
   "mimetype": "text/x-python",
   "name": "python",
   "nbconvert_exporter": "python",
   "pygments_lexer": "ipython3",
   "version": "3.10.8"
  }
 },
 "nbformat": 4,
 "nbformat_minor": 2
}
